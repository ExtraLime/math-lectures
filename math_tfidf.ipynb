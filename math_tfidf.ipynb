{
 "cells": [
  {
   "cell_type": "markdown",
   "metadata": {},
   "source": [
    "# Using tf-idf to vecotrize math lectures.\n",
    "#### This is the second notebookin the math lecture series. This notebook consists of feature generation using tf-idf and modeling using supervised methods.\n",
    "    -To begin, we clean the data as we did in the first notebook.\n",
    "    -Next, we use the tf-idf vectorizer to vectorize the lectures\n",
    "    -Next, we model the tf-idf vectors as X and subject as Y (outcome)\n",
    "    -Search for optimal parameter settings for tf-idf\n",
    "    -In an attempt to amerilorate the accuracy further, we break down the lectures to Parts of Speach\n",
    "    -Model the data using only POS\n",
    "    -Combine the tf-idf vectors and POS\n"
   ]
  },
  {
   "cell_type": "code",
   "execution_count": 2,
   "metadata": {
    "scrolled": true
   },
   "outputs": [],
   "source": [
    "import os\n",
    "import time\n",
    "from collections import Counter, OrderedDict\n",
    "from itertools import islice\n",
    "import smart_open\n",
    "\n",
    "import numpy as np\n",
    "import pandas as pd\n",
    "import scipy\n",
    "import spacy\n",
    "import matplotlib.pyplot as plt\n",
    "import matplotlib.patches as patches\n",
    "from mpl_toolkits.mplot3d import Axes3D\n",
    "import seaborn as sns\n",
    "import xml.etree.ElementTree as ET  \n",
    "\n",
    "import re\n",
    "import nltk\n",
    "from nltk.corpus import stopwords\n",
    "from nltk.cluster import KMeansClusterer\n",
    "from nltk.tokenize import word_tokenize\n",
    "import gensim\n",
    "from gensim.models import word2vec\n",
    "from gensim.models.doc2vec import Doc2Vec, TaggedDocument\n",
    "from sklearn.feature_extraction.text import TfidfVectorizer\n",
    "\n",
    "from sklearn import cluster, ensemble, linear_model, naive_bayes, neighbors, svm\n",
    "from sklearn.model_selection import cross_val_score, train_test_split, ShuffleSplit\n",
    "\n",
    "\n",
    "from sklearn.decomposition import TruncatedSVD, NMF, PCA\n",
    "from sklearn.manifold import TSNE\n",
    "from sklearn.pipeline import make_pipeline\n",
    "from sklearn.preprocessing import Normalizer, minmax_scale\n",
    "\n",
    "from sklearn.metrics import classification_report, confusion_matrix, roc_curve,auc, silhouette_score\n",
    "from sklearn.metrics.pairwise import cosine_similarity\n",
    "\n",
    "\n",
    "import warnings\n",
    "warnings.filterwarnings(\n",
    "    module='gensim',\n",
    "    action='ignore',\n",
    "    message='Conversion')\n",
    "warnings.filterwarnings(\n",
    "    module='scipy',\n",
    "    action='ignore',\n",
    "    message='Using a')\n",
    "warnings.filterwarnings(\"ignore\",category=DeprecationWarning)\n",
    "\n",
    "\n",
    "default_stopwords = set(nltk.corpus.stopwords.words('english'))\n",
    "stemmer = nltk.stem.snowball.SnowballStemmer('english')\n",
    "sns.set(style='dark',context='paper',palette='BrBG_r')\n",
    "%matplotlib inline\n",
    "\n",
    "\n",
    " \n",
    "def take(n, iterable):\n",
    "    \"Return first n items of the iterable as a list\"\n",
    "    return list(islice(iterable, n))"
   ]
  },
  {
   "cell_type": "markdown",
   "metadata": {},
   "source": [
    "### Importing and cleaning the data"
   ]
  },
  {
   "cell_type": "code",
   "execution_count": 4,
   "metadata": {},
   "outputs": [],
   "source": [
    "#set path to XML files\n",
    "path = '/root/Desktop/gits/unit-4-NLP-capstone/lectures'\n",
    "folder = os.fsencode(path)\n",
    "\n",
    "#get list of the filenames\n",
    "filenames = sorted([re.sub('.xml','',os.fsdecode(file)) for file in os.listdir(folder)])\n",
    "\n",
    "\n",
    "#Use ElementTree trace xml tree and extract text from xml files, removing tags\n",
    "lecture_texts = []\n",
    "for file in filenames:\n",
    "    tree = ET.parse('lectures/{}.xml'.format(file))\n",
    "    root = tree.getroot()\n",
    "    all_text = []\n",
    "    for elem in root:  \n",
    "        for subelem in elem:\n",
    "            all_text.append(subelem.text)\n",
    "    lecture_texts.append(all_text)"
   ]
  },
  {
   "cell_type": "code",
   "execution_count": 5,
   "metadata": {},
   "outputs": [
    {
     "name": "stdout",
     "output_type": "stream",
     "text": [
      "<class 'str'>\n"
     ]
    },
    {
     "data": {
      "text/html": [
       "<div>\n",
       "<style scoped>\n",
       "    .dataframe tbody tr th:only-of-type {\n",
       "        vertical-align: middle;\n",
       "    }\n",
       "\n",
       "    .dataframe tbody tr th {\n",
       "        vertical-align: top;\n",
       "    }\n",
       "\n",
       "    .dataframe thead th {\n",
       "        text-align: right;\n",
       "    }\n",
       "</style>\n",
       "<table border=\"1\" class=\"dataframe\">\n",
       "  <thead>\n",
       "    <tr style=\"text-align: right;\">\n",
       "      <th></th>\n",
       "      <th>filename</th>\n",
       "      <th>raw_text</th>\n",
       "    </tr>\n",
       "  </thead>\n",
       "  <tbody>\n",
       "    <tr>\n",
       "      <th>0</th>\n",
       "      <td>aurouxmcalc1</td>\n",
       "      <td>So let's start right away with\\nstuff that we ...</td>\n",
       "    </tr>\n",
       "  </tbody>\n",
       "</table>\n",
       "</div>"
      ],
      "text/plain": [
       "       filename                                           raw_text\n",
       "0  aurouxmcalc1  So let's start right away with\\nstuff that we ..."
      ]
     },
     "execution_count": 5,
     "metadata": {},
     "output_type": "execute_result"
    }
   ],
   "source": [
    "raw_data = pd.DataFrame()\n",
    "raw_data['filename'] = filenames\n",
    "raw_data['raw_text'] = [ ' '.join(i) for i in lecture_texts ] #unpack list of lists as string\n",
    "print(type(raw_data.raw_text[0]))\n",
    "raw_data.head(1)"
   ]
  },
  {
   "cell_type": "code",
   "execution_count": 6,
   "metadata": {},
   "outputs": [],
   "source": [
    "#Function to remove identified words through visual inspection\n",
    "def text_cleaner(text):\n",
    "    text = re.sub(r'--',', ',text) # unrecognized punctuation\n",
    "    text = re.sub(\"[\\[].*?[\\]]\", \"\", text) #remove in [audible],[laughter] etc\n",
    "    text = ' '.join(text.split()) #for one long string\n",
    "    #remove intros,professor names\n",
    "    text = re.sub(\"The following content is provided under a Creative Commons license. \",'',text)\n",
    "    text = re.sub('Your support will help MIT OpenCourseWare continue to',' ',text)\n",
    "    text = re.sub(' offer high quality educational resources for free.',' ',text)\n",
    "    text = re.sub('To make a donation or ',' ',text)\n",
    "    text = re.sub('view additional materials from hundreds of MIT',' ',text)   \n",
    "    text = re.sub(' courses, visit MIT OpenCourseWare at ocw.mit.edu.',' ',text)   \n",
    "    text = re.sub('Haynes Miller','PROFESSOR',text)\n",
    "    text = re.sub('David Jerison','PROFESSOR',text)\n",
    "    text = re.sub('Srini Devadas','PROFESSOR',text)\n",
    "    text = re.sub('Gilbert Strang','PROFESSOR',text)\n",
    "    text = re.sub('TOM LEIGHTON','PROFESSOR',text)\n",
    "    text = re.sub('PHILIPPE RIGOLLET','PROFESSOR',text)\n",
    "    text = re.sub('PROFESSOR STRANG','PROFESSOR',text)\n",
    "    text = re.sub('PROF. PATRICK WINSTON','PROFESSOR',text)\n",
    "    text = re.sub('PROFESSOR PATRICK WINSTON','PROFESSOR',text)   \n",
    "    text = re.sub('ERIK DEMAINE','PROFESSOR',text)\n",
    "    text = re.sub('Demaine','PROFESSOR',text)\n",
    "    text = re.sub('Erik','PROFESSOR',text)\n",
    "    text = re.sub('PROF. JERISON','PROFESSOR',text)\n",
    "    text = re.sub('ERIK DOMANE','PROFESSOR',text)\n",
    "    text = re.sub('Erik Domane','PROFESSOR',text)\n",
    "    text = re.sub('Stanford University. >>', '',text)\n",
    "    text = re.sub('PATRICK WINSTON', 'PROFESSOR',text)\n",
    "    text = re.sub('Welcome to 6.851 Advanced Data Structures', 'PROFESSOR',text)\n",
    "    text = re.sub('PROFESSOR: PROFESSOR', ' ',text)\n",
    "    text = re.sub('PROFESSOR PROFESSOR', ' ',text)\n",
    "    return text\n",
    "\n",
    "#list common contractions and full text counterpart\n",
    "contractions_dict = {\n",
    "  \"ain't\": \"am not\",\n",
    "  \"aren't\": \"are not\",\n",
    "  \"can't\": \"cannot\",\n",
    "  \"can't've\": \"cannot have\",\n",
    "  \"'cause\": \"because\",\n",
    "  \"could've\": \"could have\",\n",
    "  \"couldn't\": \"could not\",\n",
    "  \"couldn't've\": \"could not have\",\n",
    "  \"didn't\": \"did not\",\n",
    "  \"doesn't\": \"does not\",\n",
    "  \"does'nt\": \"does not\",\n",
    "  \"don't\": \"do not\",\n",
    "  \"hadn't\": \"had not\",\n",
    "  \"hadn't've\": \"had not have\",\n",
    "  \"hasn't\": \"has not\",\n",
    "  \"haven't\": \"have not\",\n",
    "  \"he'd\": \"he would\",\n",
    "  \"he'd've\": \"he would have\",\n",
    "  \"he'll\": \"he will\",\n",
    "  \"he'll've\": \"he will have\",\n",
    "  \"he's\": \"he has\",\n",
    "  \"how'd\": \"how did\",\n",
    "  \"how'd'y\": \"how do you\",\n",
    "  \"how'll\": \"how will\",\n",
    "  \"how's\": \"how is\",\n",
    "  \"I'd\": \"I would\",\n",
    "  \"I'd've\": \"I would have\",\n",
    "  \"I'll\": \"I will\",\n",
    "  \"I'll've\": \"I will have\",\n",
    "  \"I'm\": \"I am\",\n",
    "  \"I've\": \"I have\",\n",
    "  \"isn't\": \"is not\",\n",
    "  \"it'd\": \"it would\",\n",
    "  \"it'd've\": \"it would have\",\n",
    "  \"it'll\": \"it will\",\n",
    "  \"it'll've\": \"it will have\",\n",
    "  \"it's\": \"it is\",\n",
    "  \"let's\": \"let us\",\n",
    "  \"ma'am\": \"madam\",\n",
    "  \"mayn't\": \"may not\",\n",
    "  \"might've\": \"might have\",\n",
    "  \"mightn't\": \"might not\",\n",
    "  \"mightn't've\": \"might not have\",\n",
    "  \"must've\": \"must have\",\n",
    "  \"mustn't\": \"must not\",\n",
    "  \"mustn't've\": \"must not have\",\n",
    "  \"needn't\": \"need not\",\n",
    "  \"needn't've\": \"need not have\",\n",
    "  \"o'clock\": \"of the clock\",\n",
    "  \"oughtn't\": \"ought not\",\n",
    "  \"oughtn't've\": \"ought not have\",\n",
    "  \"shan't\": \"shall not\",\n",
    "  \"sha'n't\": \"shall not\",\n",
    "  \"shan't've\": \"shall not have\",\n",
    "  \"she'd\": \"she had / she would\",\n",
    "  \"she'd've\": \"she would have\",\n",
    "  \"she'll\": \"she will\",\n",
    "  \"she'll've\": \"she will have\",\n",
    "  \"she's\": \"she is\",\n",
    "  \"should've\": \"should have\",\n",
    "  \"shouldn't\": \"should not\",\n",
    "  \"shouldn't've\": \"should not have\",\n",
    "  \"so've\": \"so have\",\n",
    "  \"so's\": \"so is\",\n",
    "  \"tellin\": 'telling',\n",
    "  \"that'd\": \"that would\",\n",
    "  \"that'd've\": \"that would have\",\n",
    "  \"that's\": \"that is\",\n",
    "  \"thats\": \"that is\",\n",
    "  \"there'd\": \"there would\",\n",
    "  \"there'd've\": \"there would have\",\n",
    "  \"there's\": \"there is\",\n",
    "  \"they'd\": \"they would\",\n",
    "  \"they'd've\": \"they would have\",\n",
    "  \"they'll\": \"they will\",\n",
    "  \"they'll've\": \"they will have\",\n",
    "  \"they're\": \"they are\",\n",
    "  \"they've\": \"they have\",\n",
    "  \"to've\": \"to have\",\n",
    "  \"wasn't\": \"was not\",\n",
    "  \"we'd\": \"we would\",\n",
    "  \"we'd've\": \"we would have\",\n",
    "  \"we'll\": \"we will\",\n",
    "  \"we'll've\": \"we will have\",\n",
    "  \"we're\": \"we are\",\n",
    "  \"we've\": \"we have\",\n",
    "  \"weren't\": \"were not\",\n",
    "  \"what'll\": \"what will\",\n",
    "  \"what'll've\": \"what will have\",\n",
    "  \"what're\": \"what are\",\n",
    "  \"what's\": \"what is\",\n",
    "  \"what've\": \"what have\",\n",
    "  \"when's\": \"when is\",\n",
    "  \"when've\": \"when have\",\n",
    "  \"where'd\": \"where did\",\n",
    "  \"where's\": \"where is\",\n",
    "  \"where've\": \"where have\",\n",
    "  \"who'll\": \"who will\",\n",
    "  \"who'll've\": \"who will have\",\n",
    "  \"who's\": \"who is\",\n",
    "  \"who've\": \"who have\",\n",
    "  \"why's\": \"why is\",\n",
    "  \"why've\": \"why have\",\n",
    "  \"will've\": \"will have\",\n",
    "  \"won't\": \"will not\",\n",
    "  \"won't've\": \"will not have\",\n",
    "  \"would've\": \"would have\",\n",
    "  \"wouldn't\": \"would not\",\n",
    "  \"wouldn't've\": \"would not have\",\n",
    "  \"ya\": \"you\",\n",
    "  \"y'all\": \"you all\",\n",
    "  \"y'all'd\": \"you all would\",\n",
    "  \"y'all'd've\": \"you all would have\",\n",
    "  \"y'all're\": \"you all are\",\n",
    "  \"y'all've\": \"you all have\",\n",
    "  \"you'd\": \"you had / you would\",\n",
    "  \"you'd've\": \"you would have\",\n",
    "  \"you'll\": \"you shall / you will\",\n",
    "  \"you'll've\": \"you will have\",\n",
    "  \"you're\": \"you are\",\n",
    "  \"you've\": \"you have\"}\n",
    "#function to correct the contractions\n",
    "contractions_re = re.compile('(%s)' % '|'.join(contractions_dict.keys()))\n",
    "def expand_contractions(s, contractions_dict=contractions_dict):\n",
    "    def replace(match):\n",
    "        return contractions_dict[match.group(0)]\n",
    "    return contractions_re.sub(replace, s)"
   ]
  },
  {
   "cell_type": "code",
   "execution_count": 7,
   "metadata": {},
   "outputs": [
    {
     "data": {
      "text/html": [
       "<div>\n",
       "<style scoped>\n",
       "    .dataframe tbody tr th:only-of-type {\n",
       "        vertical-align: middle;\n",
       "    }\n",
       "\n",
       "    .dataframe tbody tr th {\n",
       "        vertical-align: top;\n",
       "    }\n",
       "\n",
       "    .dataframe thead th {\n",
       "        text-align: right;\n",
       "    }\n",
       "</style>\n",
       "<table border=\"1\" class=\"dataframe\">\n",
       "  <thead>\n",
       "    <tr style=\"text-align: right;\">\n",
       "      <th></th>\n",
       "      <th>filename</th>\n",
       "      <th>raw_text</th>\n",
       "      <th>Professor</th>\n",
       "      <th>Subject</th>\n",
       "    </tr>\n",
       "  </thead>\n",
       "  <tbody>\n",
       "    <tr>\n",
       "      <th>0</th>\n",
       "      <td>aurouxmcalc1</td>\n",
       "      <td>So let us start right away with stuff that we ...</td>\n",
       "      <td>Auroux</td>\n",
       "      <td>Calculus</td>\n",
       "    </tr>\n",
       "    <tr>\n",
       "      <th>1</th>\n",
       "      <td>aurouxmcalc11</td>\n",
       "      <td>to    So far we have learned about partial...</td>\n",
       "      <td>Auroux</td>\n",
       "      <td>Calculus</td>\n",
       "    </tr>\n",
       "    <tr>\n",
       "      <th>2</th>\n",
       "      <td>aurouxmcalc2</td>\n",
       "      <td>So , So, yesterday we learned about the questi...</td>\n",
       "      <td>Auroux</td>\n",
       "      <td>Calculus</td>\n",
       "    </tr>\n",
       "    <tr>\n",
       "      <th>3</th>\n",
       "      <td>aurouxmcalc5</td>\n",
       "      <td>to    So, so far, we have seen things abou...</td>\n",
       "      <td>Auroux</td>\n",
       "      <td>Calculus</td>\n",
       "    </tr>\n",
       "    <tr>\n",
       "      <th>4</th>\n",
       "      <td>demainedata1</td>\n",
       "      <td>. I am  . You can call me PROFESSOR. W...</td>\n",
       "      <td>Demaine</td>\n",
       "      <td>Data</td>\n",
       "    </tr>\n",
       "  </tbody>\n",
       "</table>\n",
       "</div>"
      ],
      "text/plain": [
       "        filename                                           raw_text Professor  \\\n",
       "0   aurouxmcalc1  So let us start right away with stuff that we ...    Auroux   \n",
       "1  aurouxmcalc11      to    So far we have learned about partial...    Auroux   \n",
       "2   aurouxmcalc2  So , So, yesterday we learned about the questi...    Auroux   \n",
       "3   aurouxmcalc5      to    So, so far, we have seen things abou...    Auroux   \n",
       "4   demainedata1          . I am  . You can call me PROFESSOR. W...   Demaine   \n",
       "\n",
       "    Subject  \n",
       "0  Calculus  \n",
       "1  Calculus  \n",
       "2  Calculus  \n",
       "3  Calculus  \n",
       "4      Data  "
      ]
     },
     "execution_count": 7,
     "metadata": {},
     "output_type": "execute_result"
    }
   ],
   "source": [
    "raw_data.raw_text = [ expand_contractions(i) for i in raw_data.raw_text]\n",
    "raw_data.raw_text = [ text_cleaner(i) for i in raw_data.raw_text]\n",
    "\n",
    "#label professors\n",
    "raw_data['Professor'] = ['Auroux']*4 + ['Demaine']*7 + ['Devadas']*9 + ['Jerison']*9 + ['Leighton']*11 + ['Manning']*3 + ['Mattuck']*9\\\n",
    "+ ['Rigollet']*10 + ['Socher']*4 + ['Strang']*18 + ['Winston']* 8\n",
    "#label_subjects\n",
    "raw_data['Subject'] = ['Calculus']*4 + ['Data']*7 + ['Algorithms']*9 + ['Calculus']*9 + ['CS Math']*11 + ['NLP']*3\\\n",
    "+ ['Diff. Eq.']*9+ ['Statistics']*10 + ['NLP']*4 + ['Linear Algebra']*10 + ['Mech. Eng']* 8 +\\\n",
    "['AI']*8\n",
    "raw_data.head(5)"
   ]
  },
  {
   "cell_type": "code",
   "execution_count": 8,
   "metadata": {},
   "outputs": [
    {
     "name": "stdout",
     "output_type": "stream",
     "text": [
      "Minutes: 3.6422056754430137\n"
     ]
    }
   ],
   "source": [
    "#Create Spacy document for each lecture\n",
    "t1 = time.time()\n",
    "nlp = spacy.load('en')\n",
    "raw_data['sdoc'] = [nlp(i) for i in raw_data.raw_text]\n",
    "print('Minutes: {}'.format((time.time()-t1)/60))"
   ]
  },
  {
   "cell_type": "code",
   "execution_count": 9,
   "metadata": {},
   "outputs": [],
   "source": [
    "#create a new data frame for the professor,subject and the spacy doc\n",
    "sentences = raw_data[['filename','Professor','Subject','sdoc']].copy()\n",
    "\n",
    "#create a list of lists of tokens (remove stop words and punct) \n",
    "sentences['sents'] = [ [ [token.lemma_.lower() for token in sent if not token.is_stop\n",
    "        and not token.is_punct] for sent in doc.sents] for doc in sentences.sdoc]\n",
    "\n",
    "#convert lecture lists of sentences to lecture string\n",
    "sentences['text'] = [' '.join([str( ' '.join(i)) for i in j]) for j in sentences.sents]\n",
    "\n",
    "sentences['text'] = [ ' '.join(pd.Series(sentences.text[i]).str.replace('-pron-',''))\\\n",
    "                     for i in range(len(sentences.text)) ]"
   ]
  },
  {
   "cell_type": "markdown",
   "metadata": {},
   "source": [
    "## Initial model"
   ]
  },
  {
   "cell_type": "code",
   "execution_count": 10,
   "metadata": {},
   "outputs": [],
   "source": [
    "#Split the data into train and test set.\n",
    "X = np.array(sentences['text'])\n",
    "y = np.array(sentences[['Professor','Subject','filename']]) #keep all labels\n",
    "\n",
    "\n",
    "#As we are modeling, vectorize all of the lectures, before splitting the data\n",
    "\n",
    "#Instantiate tf-idf vectorizer\n",
    "vectorizer = TfidfVectorizer(max_df=0.50, # drop words that occur in more 50% of the sentences\n",
    "                             min_df=25, # only use words that appear at least 25\n",
    "                             stop_words='english', \n",
    "                             lowercase=True,\n",
    "                             use_idf=True,\n",
    "                             norm=u'l2',  \n",
    "                             smooth_idf=True)"
   ]
  },
  {
   "cell_type": "code",
   "execution_count": 11,
   "metadata": {
    "scrolled": true
   },
   "outputs": [
    {
     "name": "stdout",
     "output_type": "stream",
     "text": [
      "(92, 334)\n"
     ]
    },
    {
     "data": {
      "text/html": [
       "<div>\n",
       "<style scoped>\n",
       "    .dataframe tbody tr th:only-of-type {\n",
       "        vertical-align: middle;\n",
       "    }\n",
       "\n",
       "    .dataframe tbody tr th {\n",
       "        vertical-align: top;\n",
       "    }\n",
       "\n",
       "    .dataframe thead th {\n",
       "        text-align: right;\n",
       "    }\n",
       "</style>\n",
       "<table border=\"1\" class=\"dataframe\">\n",
       "  <thead>\n",
       "    <tr style=\"text-align: right;\">\n",
       "      <th></th>\n",
       "      <th>0</th>\n",
       "      <th>1</th>\n",
       "      <th>2</th>\n",
       "      <th>3</th>\n",
       "      <th>4</th>\n",
       "      <th>5</th>\n",
       "      <th>6</th>\n",
       "      <th>7</th>\n",
       "      <th>8</th>\n",
       "      <th>9</th>\n",
       "      <th>...</th>\n",
       "      <th>324</th>\n",
       "      <th>325</th>\n",
       "      <th>326</th>\n",
       "      <th>327</th>\n",
       "      <th>328</th>\n",
       "      <th>329</th>\n",
       "      <th>330</th>\n",
       "      <th>331</th>\n",
       "      <th>332</th>\n",
       "      <th>333</th>\n",
       "    </tr>\n",
       "  </thead>\n",
       "  <tbody>\n",
       "    <tr>\n",
       "      <th>0</th>\n",
       "      <td>0.014227</td>\n",
       "      <td>0.0</td>\n",
       "      <td>0.014004</td>\n",
       "      <td>0.0</td>\n",
       "      <td>0.00000</td>\n",
       "      <td>0.011054</td>\n",
       "      <td>0.000000</td>\n",
       "      <td>0.000000</td>\n",
       "      <td>0.013378</td>\n",
       "      <td>0.00000</td>\n",
       "      <td>...</td>\n",
       "      <td>0.00000</td>\n",
       "      <td>0.000000</td>\n",
       "      <td>0.000000</td>\n",
       "      <td>0.000000</td>\n",
       "      <td>0.0</td>\n",
       "      <td>0.000000</td>\n",
       "      <td>0.000000</td>\n",
       "      <td>0.0</td>\n",
       "      <td>0.0</td>\n",
       "      <td>0.000000</td>\n",
       "    </tr>\n",
       "    <tr>\n",
       "      <th>1</th>\n",
       "      <td>0.000000</td>\n",
       "      <td>0.0</td>\n",
       "      <td>0.015423</td>\n",
       "      <td>0.0</td>\n",
       "      <td>0.00000</td>\n",
       "      <td>0.048699</td>\n",
       "      <td>0.000000</td>\n",
       "      <td>0.000000</td>\n",
       "      <td>0.000000</td>\n",
       "      <td>0.00000</td>\n",
       "      <td>...</td>\n",
       "      <td>0.00000</td>\n",
       "      <td>0.000000</td>\n",
       "      <td>0.000000</td>\n",
       "      <td>0.000000</td>\n",
       "      <td>0.0</td>\n",
       "      <td>0.029913</td>\n",
       "      <td>0.012989</td>\n",
       "      <td>0.0</td>\n",
       "      <td>0.0</td>\n",
       "      <td>0.000000</td>\n",
       "    </tr>\n",
       "    <tr>\n",
       "      <th>2</th>\n",
       "      <td>0.000000</td>\n",
       "      <td>0.0</td>\n",
       "      <td>0.000000</td>\n",
       "      <td>0.0</td>\n",
       "      <td>0.00000</td>\n",
       "      <td>0.016340</td>\n",
       "      <td>0.000000</td>\n",
       "      <td>0.000000</td>\n",
       "      <td>0.000000</td>\n",
       "      <td>0.00000</td>\n",
       "      <td>...</td>\n",
       "      <td>0.00000</td>\n",
       "      <td>0.000000</td>\n",
       "      <td>0.000000</td>\n",
       "      <td>0.000000</td>\n",
       "      <td>0.0</td>\n",
       "      <td>0.000000</td>\n",
       "      <td>0.000000</td>\n",
       "      <td>0.0</td>\n",
       "      <td>0.0</td>\n",
       "      <td>0.016340</td>\n",
       "    </tr>\n",
       "    <tr>\n",
       "      <th>3</th>\n",
       "      <td>0.000000</td>\n",
       "      <td>0.0</td>\n",
       "      <td>0.000000</td>\n",
       "      <td>0.0</td>\n",
       "      <td>0.00000</td>\n",
       "      <td>0.000000</td>\n",
       "      <td>0.000000</td>\n",
       "      <td>0.000000</td>\n",
       "      <td>0.000000</td>\n",
       "      <td>0.00000</td>\n",
       "      <td>...</td>\n",
       "      <td>0.00000</td>\n",
       "      <td>0.020213</td>\n",
       "      <td>0.000000</td>\n",
       "      <td>0.127391</td>\n",
       "      <td>0.0</td>\n",
       "      <td>0.000000</td>\n",
       "      <td>0.016755</td>\n",
       "      <td>0.0</td>\n",
       "      <td>0.0</td>\n",
       "      <td>0.000000</td>\n",
       "    </tr>\n",
       "    <tr>\n",
       "      <th>4</th>\n",
       "      <td>0.000000</td>\n",
       "      <td>0.0</td>\n",
       "      <td>0.000000</td>\n",
       "      <td>0.0</td>\n",
       "      <td>0.00785</td>\n",
       "      <td>0.015006</td>\n",
       "      <td>0.003477</td>\n",
       "      <td>0.003925</td>\n",
       "      <td>0.000000</td>\n",
       "      <td>0.00338</td>\n",
       "      <td>...</td>\n",
       "      <td>0.00798</td>\n",
       "      <td>0.000000</td>\n",
       "      <td>0.007374</td>\n",
       "      <td>0.000000</td>\n",
       "      <td>0.0</td>\n",
       "      <td>0.007374</td>\n",
       "      <td>0.003202</td>\n",
       "      <td>0.0</td>\n",
       "      <td>0.0</td>\n",
       "      <td>0.009004</td>\n",
       "    </tr>\n",
       "  </tbody>\n",
       "</table>\n",
       "<p>5 rows × 334 columns</p>\n",
       "</div>"
      ],
      "text/plain": [
       "        0    1         2    3        4         5         6         7    \\\n",
       "0  0.014227  0.0  0.014004  0.0  0.00000  0.011054  0.000000  0.000000   \n",
       "1  0.000000  0.0  0.015423  0.0  0.00000  0.048699  0.000000  0.000000   \n",
       "2  0.000000  0.0  0.000000  0.0  0.00000  0.016340  0.000000  0.000000   \n",
       "3  0.000000  0.0  0.000000  0.0  0.00000  0.000000  0.000000  0.000000   \n",
       "4  0.000000  0.0  0.000000  0.0  0.00785  0.015006  0.003477  0.003925   \n",
       "\n",
       "        8        9      ...         324       325       326       327  328  \\\n",
       "0  0.013378  0.00000    ...     0.00000  0.000000  0.000000  0.000000  0.0   \n",
       "1  0.000000  0.00000    ...     0.00000  0.000000  0.000000  0.000000  0.0   \n",
       "2  0.000000  0.00000    ...     0.00000  0.000000  0.000000  0.000000  0.0   \n",
       "3  0.000000  0.00000    ...     0.00000  0.020213  0.000000  0.127391  0.0   \n",
       "4  0.000000  0.00338    ...     0.00798  0.000000  0.007374  0.000000  0.0   \n",
       "\n",
       "        329       330  331  332       333  \n",
       "0  0.000000  0.000000  0.0  0.0  0.000000  \n",
       "1  0.029913  0.012989  0.0  0.0  0.000000  \n",
       "2  0.000000  0.000000  0.0  0.0  0.016340  \n",
       "3  0.000000  0.016755  0.0  0.0  0.000000  \n",
       "4  0.007374  0.003202  0.0  0.0  0.009004  \n",
       "\n",
       "[5 rows x 334 columns]"
      ]
     },
     "execution_count": 11,
     "metadata": {},
     "output_type": "execute_result"
    }
   ],
   "source": [
    "Xt = vectorizer.fit_transform(X)\n",
    "tfidf_vecs = pd.DataFrame(Xt.todense())\n",
    "print(tfidf_vecs.shape)\n",
    "tfidf_vecs.head()"
   ]
  },
  {
   "cell_type": "code",
   "execution_count": 12,
   "metadata": {
    "scrolled": true
   },
   "outputs": [],
   "source": [
    "X_train, X_test, y_train, y_test = train_test_split(tfidf_vecs, y, test_size=.25, random_state=43)"
   ]
  },
  {
   "cell_type": "code",
   "execution_count": 13,
   "metadata": {
    "scrolled": false
   },
   "outputs": [
    {
     "name": "stdout",
     "output_type": "stream",
     "text": [
      "Logistic Regression\n",
      "Training Score: 0.9565217391304348\n"
     ]
    },
    {
     "data": {
      "image/png": "[encoded data removed]",
      "text/plain": [
       "<Figure size 432x288 with 1 Axes>"
      ]
     },
     "metadata": {},
     "output_type": "display_data"
    },
    {
     "name": "stdout",
     "output_type": "stream",
     "text": [
      "                precision    recall  f1-score   support\n",
      "\n",
      "            AI       0.00      0.00      0.00         2\n",
      "    Algorithms       0.50      0.25      0.33         4\n",
      "       CS Math       0.25      1.00      0.40         1\n",
      "      Calculus       0.67      0.50      0.57         4\n",
      "          Data       1.00      0.50      0.67         2\n",
      "     Diff. Eq.       0.67      1.00      0.80         2\n",
      "Linear Algebra       0.67      1.00      0.80         2\n",
      "     Mech. Eng       1.00      0.33      0.50         3\n",
      "           NLP       1.00      1.00      1.00         2\n",
      "    Statistics       0.33      1.00      0.50         1\n",
      "\n",
      "     micro avg       0.57      0.57      0.57        23\n",
      "     macro avg       0.61      0.66      0.56        23\n",
      "  weighted avg       0.65      0.57      0.55        23\n",
      "\n",
      "Random Forest\n",
      "Training Score: 1.0\n"
     ]
    },
    {
     "data": {
      "image/png": "[encoded data removed]",
      "text/plain": [
       "<Figure size 432x288 with 1 Axes>"
      ]
     },
     "metadata": {},
     "output_type": "display_data"
    },
    {
     "name": "stdout",
     "output_type": "stream",
     "text": [
      "                precision    recall  f1-score   support\n",
      "\n",
      "            AI       1.00      0.50      0.67         2\n",
      "    Algorithms       1.00      0.50      0.67         4\n",
      "       CS Math       0.50      1.00      0.67         1\n",
      "      Calculus       0.80      1.00      0.89         4\n",
      "          Data       0.67      1.00      0.80         2\n",
      "     Diff. Eq.       0.50      0.50      0.50         2\n",
      "Linear Algebra       0.50      1.00      0.67         2\n",
      "     Mech. Eng       1.00      0.33      0.50         3\n",
      "           NLP       1.00      1.00      1.00         2\n",
      "    Statistics       1.00      1.00      1.00         1\n",
      "\n",
      "     micro avg       0.74      0.74      0.74        23\n",
      "     macro avg       0.80      0.78      0.74        23\n",
      "  weighted avg       0.83      0.74      0.72        23\n",
      "\n",
      "Gradient Boosting\n",
      "Training Score: 1.0\n"
     ]
    },
    {
     "data": {
      "image/png": "[encoded data removed]",
      "text/plain": [
       "<Figure size 432x288 with 1 Axes>"
      ]
     },
     "metadata": {},
     "output_type": "display_data"
    },
    {
     "name": "stderr",
     "output_type": "stream",
     "text": [
      "/root/.pyenv/versions/3.6.0/lib/python3.6/site-packages/sklearn/metrics/classification.py:1143: UndefinedMetricWarning: Precision and F-score are ill-defined and being set to 0.0 in labels with no predicted samples.\n",
      "  'precision', 'predicted', average, warn_for)\n",
      "/root/.pyenv/versions/3.6.0/lib/python3.6/site-packages/sklearn/metrics/classification.py:1143: UndefinedMetricWarning: Precision and F-score are ill-defined and being set to 0.0 in labels with no predicted samples.\n",
      "  'precision', 'predicted', average, warn_for)\n",
      "/root/.pyenv/versions/3.6.0/lib/python3.6/site-packages/sklearn/metrics/classification.py:1143: UndefinedMetricWarning: Precision and F-score are ill-defined and being set to 0.0 in labels with no predicted samples.\n",
      "  'precision', 'predicted', average, warn_for)\n"
     ]
    },
    {
     "name": "stdout",
     "output_type": "stream",
     "text": [
      "                precision    recall  f1-score   support\n",
      "\n",
      "            AI       0.00      0.00      0.00         2\n",
      "    Algorithms       0.00      0.00      0.00         4\n",
      "       CS Math       0.33      1.00      0.50         1\n",
      "      Calculus       0.60      0.75      0.67         4\n",
      "          Data       1.00      1.00      1.00         2\n",
      "     Diff. Eq.       0.33      0.50      0.40         2\n",
      "Linear Algebra       0.50      1.00      0.67         2\n",
      "     Mech. Eng       0.00      0.00      0.00         3\n",
      "           NLP       0.67      1.00      0.80         2\n",
      "    Statistics       1.00      1.00      1.00         1\n",
      "\n",
      "     micro avg       0.52      0.52      0.52        23\n",
      "     macro avg       0.44      0.62      0.50        23\n",
      "  weighted avg       0.38      0.52      0.43        23\n",
      "\n",
      "MultinomialNB\n",
      "Training Score: 0.9420289855072463\n"
     ]
    },
    {
     "data": {
      "image/png": "[encoded data removed]",
      "text/plain": [
       "<Figure size 432x288 with 1 Axes>"
      ]
     },
     "metadata": {},
     "output_type": "display_data"
    },
    {
     "name": "stderr",
     "output_type": "stream",
     "text": [
      "/root/.pyenv/versions/3.6.0/lib/python3.6/site-packages/sklearn/metrics/classification.py:1143: UndefinedMetricWarning: Precision and F-score are ill-defined and being set to 0.0 in labels with no predicted samples.\n",
      "  'precision', 'predicted', average, warn_for)\n",
      "/root/.pyenv/versions/3.6.0/lib/python3.6/site-packages/sklearn/metrics/classification.py:1143: UndefinedMetricWarning: Precision and F-score are ill-defined and being set to 0.0 in labels with no predicted samples.\n",
      "  'precision', 'predicted', average, warn_for)\n",
      "/root/.pyenv/versions/3.6.0/lib/python3.6/site-packages/sklearn/metrics/classification.py:1143: UndefinedMetricWarning: Precision and F-score are ill-defined and being set to 0.0 in labels with no predicted samples.\n",
      "  'precision', 'predicted', average, warn_for)\n"
     ]
    },
    {
     "name": "stdout",
     "output_type": "stream",
     "text": [
      "                precision    recall  f1-score   support\n",
      "\n",
      "            AI       0.00      0.00      0.00         2\n",
      "    Algorithms       0.75      0.75      0.75         4\n",
      "       CS Math       0.00      0.00      0.00         1\n",
      "      Calculus       0.67      0.50      0.57         4\n",
      "          Data       1.00      0.50      0.67         2\n",
      "     Diff. Eq.       0.67      1.00      0.80         2\n",
      "Linear Algebra       0.50      1.00      0.67         2\n",
      "     Mech. Eng       1.00      0.33      0.50         3\n",
      "           NLP       0.67      1.00      0.80         2\n",
      "    Statistics       0.50      1.00      0.67         1\n",
      "\n",
      "     micro avg       0.61      0.61      0.61        23\n",
      "     macro avg       0.57      0.61      0.54        23\n",
      "  weighted avg       0.64      0.61      0.58        23\n",
      "\n",
      "KNegihbors\n",
      "Training Score: 1.0\n"
     ]
    },
    {
     "data": {
      "image/png": "[encoded data removed]",
      "text/plain": [
       "<Figure size 432x288 with 1 Axes>"
      ]
     },
     "metadata": {},
     "output_type": "display_data"
    },
    {
     "name": "stdout",
     "output_type": "stream",
     "text": [
      "                precision    recall  f1-score   support\n",
      "\n",
      "            AI       0.00      0.00      0.00         2\n",
      "    Algorithms       0.67      0.50      0.57         4\n",
      "       CS Math       0.00      0.00      0.00         1\n",
      "      Calculus       1.00      0.50      0.67         4\n",
      "          Data       0.50      0.50      0.50         2\n",
      "     Diff. Eq.       0.50      1.00      0.67         2\n",
      "Linear Algebra       1.00      1.00      1.00         2\n",
      "     Mech. Eng       1.00      1.00      1.00         3\n",
      "           NLP       0.67      1.00      0.80         2\n",
      "    Statistics       1.00      1.00      1.00         1\n",
      "\n",
      "     micro avg       0.65      0.65      0.65        23\n",
      "     macro avg       0.63      0.65      0.62        23\n",
      "  weighted avg       0.70      0.65      0.65        23\n",
      "\n"
     ]
    },
    {
     "name": "stderr",
     "output_type": "stream",
     "text": [
      "/root/.pyenv/versions/3.6.0/lib/python3.6/site-packages/sklearn/metrics/classification.py:1143: UndefinedMetricWarning: Precision and F-score are ill-defined and being set to 0.0 in labels with no predicted samples.\n",
      "  'precision', 'predicted', average, warn_for)\n",
      "/root/.pyenv/versions/3.6.0/lib/python3.6/site-packages/sklearn/metrics/classification.py:1143: UndefinedMetricWarning: Precision and F-score are ill-defined and being set to 0.0 in labels with no predicted samples.\n",
      "  'precision', 'predicted', average, warn_for)\n",
      "/root/.pyenv/versions/3.6.0/lib/python3.6/site-packages/sklearn/metrics/classification.py:1143: UndefinedMetricWarning: Precision and F-score are ill-defined and being set to 0.0 in labels with no predicted samples.\n",
      "  'precision', 'predicted', average, warn_for)\n"
     ]
    }
   ],
   "source": [
    "print('Logistic Regression')\n",
    "lrc = linear_model.LogisticRegression(C=1, solver='newton-cg', multi_class='multinomial', random_state=43)\n",
    "lrc.fit(X_train,y_train[:,1])\n",
    "print(\"Training Score: {}\".format(lrc.score(X_train, y_train[:,1])))\n",
    "\n",
    "y_pred = lrc.predict(X_test)\n",
    "sns.heatmap(confusion_matrix(y_test[:,1], y_pred), annot=True, fmt='d',cbar=False)\n",
    "plt.show()\n",
    "print(classification_report(y_test[:,1],y_pred))\n",
    "\n",
    "print('Random Forest')\n",
    "rfc = ensemble.RandomForestClassifier(n_estimators=200, max_depth=4, min_samples_leaf=4, random_state=43,\n",
    "                                     class_weight='balanced')\n",
    "rfc.fit(X_train,y_train[:,1])\n",
    "print(\"Training Score: {}\".format(rfc.score(X_train, y_train[:,1])))\n",
    "y_pred = rfc.predict(X_test)\n",
    "sns.heatmap(confusion_matrix(y_test[:,1], y_pred), annot=True, fmt='d',cbar=False)\n",
    "plt.show()\n",
    "print(classification_report(y_test[:,1],y_pred))\n",
    "\n",
    "print('Gradient Boosting')\n",
    "\n",
    "gbc = ensemble.GradientBoostingClassifier(n_estimators=500, max_depth=3)\n",
    "gbc.fit(X_train,y_train[:,1])\n",
    "print(\"Training Score: {}\".format(gbc.score(X_train, y_train[:,1])))\n",
    "y_pred = gbc.predict(X_test)\n",
    "sns.heatmap(confusion_matrix(y_test[:,1], y_pred), annot=True, fmt='d',cbar=False)\n",
    "plt.show()\n",
    "print(classification_report(y_test[:,1],y_pred))\n",
    "\n",
    "print('MultinomialNB')\n",
    "\n",
    "bmb = naive_bayes.MultinomialNB(alpha=.3)\n",
    "bmb.fit(X_train,y_train[:,1])\n",
    "print(\"Training Score: {}\".format(bmb.score(X_train, y_train[:,1])))\n",
    "y_pred = bmb.predict(X_test)\n",
    "sns.heatmap(confusion_matrix(y_test[:,1], y_pred), annot=True, fmt='d',cbar=False)\n",
    "plt.show()\n",
    "print(classification_report(y_test[:,1],y_pred))\n",
    "\n",
    "print('KNegihbors')\n",
    "\n",
    "knn = neighbors.KNeighborsClassifier(n_neighbors=2, weights='distance')\n",
    "knn.fit(X_train,y_train[:,1])\n",
    "print(\"Training Score: {}\".format(knn.score(X_train, y_train[:,1])))\n",
    "y_pred = knn.predict(X_test)\n",
    "sns.heatmap(confusion_matrix(y_test[:,1], y_pred), annot=True, fmt='d',cbar=False)\n",
    "plt.show()\n",
    "print(classification_report(y_test[:,1],y_pred))"
   ]
  },
  {
   "cell_type": "markdown",
   "metadata": {},
   "source": [
    "## Parameter Search"
   ]
  },
  {
   "cell_type": "code",
   "execution_count": 14,
   "metadata": {},
   "outputs": [],
   "source": [
    "rfc_min = []\n",
    "min_df = []\n",
    "for i in np.arange(5,30,1):\n",
    "    vectorizer = TfidfVectorizer(max_df=0.5, # drop words that occur in more 50% of the sentences\n",
    "                             min_df=i, # only use words that appear at least 25\n",
    "                             stop_words='english', \n",
    "                             lowercase=True,\n",
    "                             use_idf=True,\n",
    "                             norm=u'l2',  \n",
    "                             smooth_idf=True)\n",
    "    Xt = vectorizer.fit_transform(X)\n",
    "    tfidf_vecs = pd.DataFrame(Xt.todense())\n",
    "    X_train, X_test, y_train, y_test = train_test_split(tfidf_vecs, y, test_size=.25, random_state=43)\n",
    "    rfc.fit(X_train,y_train[:,1])\n",
    "    rfc_min.append(rfc.score(X_test,y_test[:,1]))\n",
    "    min_df.append(i)"
   ]
  },
  {
   "cell_type": "code",
   "execution_count": 15,
   "metadata": {
    "scrolled": false
   },
   "outputs": [
    {
     "data": {
      "image/png": "[encoded data removed]",
      "text/plain": [
       "<Figure size 864x648 with 1 Axes>"
      ]
     },
     "metadata": {},
     "output_type": "display_data"
    }
   ],
   "source": [
    "sns.set_context('talk')\n",
    "plt.figure(figsize=(12,9))\n",
    "ax = sns.lineplot(x=min_df,y=rfc_min)\n",
    "ax.axvline(min_df[np.argmax(rfc_min)], c='r', linestyle='dotted')\n",
    "ax.axhline(max(rfc_min), c='r', linestyle='dotted')\n",
    "plt.xlabel(\"Minimum word occurance\")\n",
    "plt.ylabel('Test Set Score')\n",
    "plt.title(\"Tuning TF-IDF Parameters with Random Forest\")\n",
    "plt.show()"
   ]
  },
  {
   "cell_type": "markdown",
   "metadata": {},
   "source": [
    "## Extracting POS"
   ]
  },
  {
   "cell_type": "code",
   "execution_count": 16,
   "metadata": {},
   "outputs": [],
   "source": [
    "#turn each sentence into its pos\n",
    "posseslc = [ [ [ token.pos_ for token in sentence if not token.is_stop and not token.is_punct] for sentence in list(lecture.sents)]for lecture in sentences.sdoc ]"
   ]
  },
  {
   "cell_type": "code",
   "execution_count": 17,
   "metadata": {},
   "outputs": [],
   "source": [
    "#iterate over each lecture extracting lists of POS for each sentence\n",
    "def get_pos (doc_list, norm):\n",
    "    #start timer, creat lists\n",
    "    t1 = time.time()    \n",
    "    pos_list = [] #list of all POS\n",
    "    poss_list = []#list of sentences as POS\n",
    "    \n",
    "    #iterate over list of spacy docs\n",
    "    for lecture in doc_list:    \n",
    "        pss = []\n",
    "        #Extract POS\n",
    "        for token in lecture:\n",
    "            pss.append(token.pos_)\n",
    "            pos_list.append(token.pos_)\n",
    "        poss_list.append(pss)\n",
    "\n",
    "    #Set up up a DataFrame to count occurance of POS per lecture\n",
    "    pos_df = pd.DataFrame(columns=set(pos_list))\n",
    "    pos_df['pos_sent'] = poss_list\n",
    "    pos_df.loc[:, pos_list] = 0\n",
    "\n",
    "    for i, sentence in enumerate(pos_df['pos_sent']):\n",
    "        \n",
    "            # Convert the sentence words to POS\n",
    "            words = pos_df.pos_sent[i]\n",
    "\n",
    "            # Populate the row with word counts.\n",
    "            for word in words:\n",
    "                pos_df.loc[i, word] += 1\n",
    "                \n",
    "        # get total pos count in the lecture\n",
    "    pos_df['length'] = pos_df.drop(['pos_sent'],1).sum(axis=1)\n",
    "    \n",
    "    if norm == True:\n",
    "        #if True, divids POS count by length (total POS count)\n",
    "        for col in pos_df.drop(['pos_sent','length'],1).columns:\n",
    "                    pos_df[col] = pos_df[col]/pos_df.length\n",
    "        \n",
    "        \n",
    "    pos_df.drop(['pos_sent'],1,inplace=True)\n",
    "    \n",
    "    print(\"time: {} minutes\".format((time.time()-t1)/60))\n",
    "    return pos_df"
   ]
  },
  {
   "cell_type": "code",
   "execution_count": 18,
   "metadata": {
    "scrolled": false
   },
   "outputs": [
    {
     "name": "stdout",
     "output_type": "stream",
     "text": [
      "time: 5.460794333616892 minutes\n"
     ]
    }
   ],
   "source": [
    "pos_count = get_pos(sentences.sdoc, True)"
   ]
  },
  {
   "cell_type": "code",
   "execution_count": 19,
   "metadata": {},
   "outputs": [],
   "source": [
    "pos_count.to_csv('pos_count.csv')"
   ]
  },
  {
   "cell_type": "code",
   "execution_count": 20,
   "metadata": {},
   "outputs": [
    {
     "data": {
      "text/plain": [
       "(92,)"
      ]
     },
     "execution_count": 20,
     "metadata": {},
     "output_type": "execute_result"
    }
   ],
   "source": [
    "X.shape"
   ]
  },
  {
   "cell_type": "code",
   "execution_count": 21,
   "metadata": {
    "scrolled": false
   },
   "outputs": [
    {
     "data": {
      "image/png": "[encoded data removed]",
      "text/plain": [
       "<Figure size 648x432 with 1 Axes>"
      ]
     },
     "metadata": {},
     "output_type": "display_data"
    }
   ],
   "source": [
    "#Here we explore the possibility of  reducing the dimensionality for run time\n",
    "exp_var = []\n",
    "comps = []\n",
    "tot_var = []\n",
    "for i in range(15,80):\n",
    "    svd = TruncatedSVD(n_components=i)\n",
    "    lsa = make_pipeline(svd, Normalizer(copy=False))\n",
    "    temp_vecs = lsa.fit(tfidf_vecs)\n",
    "    exp_var.append(svd.explained_variance_ratio_.sum()*100)\n",
    "    comps.append(i)\n",
    "    \n",
    "plt.figure(figsize=(9,6))\n",
    "sns.lineplot(x=comps, y=exp_var)\n",
    "plt.xlabel('Number of Components')\n",
    "plt.ylabel('Percent of Variance Explained')\n",
    "plt.title('Variance Explained by SVD components')\n",
    "plt.show()\n",
    "    "
   ]
  },
  {
   "cell_type": "markdown",
   "metadata": {},
   "source": [
    "## Using POS counts only"
   ]
  },
  {
   "cell_type": "code",
   "execution_count": 22,
   "metadata": {},
   "outputs": [
    {
     "name": "stdout",
     "output_type": "stream",
     "text": [
      "time: 5.3764045635859175 minutes\n"
     ]
    }
   ],
   "source": [
    "#use POS function, without normalizing\n",
    "pos_false = get_pos(sentences.sdoc, False)"
   ]
  },
  {
   "cell_type": "code",
   "execution_count": 23,
   "metadata": {},
   "outputs": [],
   "source": [
    "X_train, X_test, y_train, y_test = train_test_split(pos_false, y, test_size=.25, random_state=43)"
   ]
  },
  {
   "cell_type": "code",
   "execution_count": 24,
   "metadata": {
    "scrolled": false
   },
   "outputs": [
    {
     "name": "stdout",
     "output_type": "stream",
     "text": [
      "Logistic Regression\n",
      "Training Score: 1.0\n"
     ]
    },
    {
     "data": {
      "image/png": "[encoded data removed]",
      "text/plain": [
       "<Figure size 432x288 with 1 Axes>"
      ]
     },
     "metadata": {},
     "output_type": "display_data"
    },
    {
     "name": "stdout",
     "output_type": "stream",
     "text": [
      "                precision    recall  f1-score   support\n",
      "\n",
      "            AI       0.50      1.00      0.67         2\n",
      "    Algorithms       1.00      0.50      0.67         4\n",
      "       CS Math       1.00      1.00      1.00         1\n",
      "      Calculus       1.00      0.75      0.86         4\n",
      "          Data       1.00      0.50      0.67         2\n",
      "     Diff. Eq.       1.00      1.00      1.00         2\n",
      "Linear Algebra       0.67      1.00      0.80         2\n",
      "     Mech. Eng       1.00      1.00      1.00         3\n",
      "           NLP       1.00      1.00      1.00         2\n",
      "    Statistics       0.50      1.00      0.67         1\n",
      "\n",
      "     micro avg       0.83      0.83      0.83        23\n",
      "     macro avg       0.87      0.88      0.83        23\n",
      "  weighted avg       0.91      0.83      0.83        23\n",
      "\n",
      "Random Forest\n",
      "Training Score: 0.9710144927536232\n"
     ]
    },
    {
     "data": {
      "image/png": "[encoded data removed]",
      "text/plain": [
       "<Figure size 432x288 with 1 Axes>"
      ]
     },
     "metadata": {},
     "output_type": "display_data"
    },
    {
     "name": "stderr",
     "output_type": "stream",
     "text": [
      "/root/.pyenv/versions/3.6.0/lib/python3.6/site-packages/sklearn/metrics/classification.py:1143: UndefinedMetricWarning: Precision and F-score are ill-defined and being set to 0.0 in labels with no predicted samples.\n",
      "  'precision', 'predicted', average, warn_for)\n",
      "/root/.pyenv/versions/3.6.0/lib/python3.6/site-packages/sklearn/metrics/classification.py:1143: UndefinedMetricWarning: Precision and F-score are ill-defined and being set to 0.0 in labels with no predicted samples.\n",
      "  'precision', 'predicted', average, warn_for)\n",
      "/root/.pyenv/versions/3.6.0/lib/python3.6/site-packages/sklearn/metrics/classification.py:1143: UndefinedMetricWarning: Precision and F-score are ill-defined and being set to 0.0 in labels with no predicted samples.\n",
      "  'precision', 'predicted', average, warn_for)\n"
     ]
    },
    {
     "name": "stdout",
     "output_type": "stream",
     "text": [
      "                precision    recall  f1-score   support\n",
      "\n",
      "            AI       1.00      0.50      0.67         2\n",
      "    Algorithms       0.80      1.00      0.89         4\n",
      "       CS Math       0.50      1.00      0.67         1\n",
      "      Calculus       0.67      0.50      0.57         4\n",
      "          Data       1.00      1.00      1.00         2\n",
      "     Diff. Eq.       1.00      0.50      0.67         2\n",
      "Linear Algebra       0.40      1.00      0.57         2\n",
      "     Mech. Eng       1.00      0.67      0.80         3\n",
      "           NLP       1.00      1.00      1.00         2\n",
      "    Statistics       0.00      0.00      0.00         1\n",
      "\n",
      "     micro avg       0.74      0.74      0.74        23\n",
      "     macro avg       0.74      0.72      0.68        23\n",
      "  weighted avg       0.79      0.74      0.73        23\n",
      "\n",
      "Gradient Boosting\n",
      "Training Score: 1.0\n"
     ]
    },
    {
     "data": {
      "image/png": "[encoded data removed]",
      "text/plain": [
       "<Figure size 432x288 with 1 Axes>"
      ]
     },
     "metadata": {},
     "output_type": "display_data"
    },
    {
     "name": "stderr",
     "output_type": "stream",
     "text": [
      "/root/.pyenv/versions/3.6.0/lib/python3.6/site-packages/sklearn/metrics/classification.py:1143: UndefinedMetricWarning: Precision and F-score are ill-defined and being set to 0.0 in labels with no predicted samples.\n",
      "  'precision', 'predicted', average, warn_for)\n",
      "/root/.pyenv/versions/3.6.0/lib/python3.6/site-packages/sklearn/metrics/classification.py:1143: UndefinedMetricWarning: Precision and F-score are ill-defined and being set to 0.0 in labels with no predicted samples.\n",
      "  'precision', 'predicted', average, warn_for)\n",
      "/root/.pyenv/versions/3.6.0/lib/python3.6/site-packages/sklearn/metrics/classification.py:1143: UndefinedMetricWarning: Precision and F-score are ill-defined and being set to 0.0 in labels with no predicted samples.\n",
      "  'precision', 'predicted', average, warn_for)\n"
     ]
    },
    {
     "name": "stdout",
     "output_type": "stream",
     "text": [
      "                precision    recall  f1-score   support\n",
      "\n",
      "            AI       0.50      1.00      0.67         2\n",
      "    Algorithms       0.60      0.75      0.67         4\n",
      "       CS Math       0.00      0.00      0.00         1\n",
      "      Calculus       1.00      0.50      0.67         4\n",
      "          Data       1.00      0.50      0.67         2\n",
      "     Diff. Eq.       0.50      0.50      0.50         2\n",
      "Linear Algebra       0.67      1.00      0.80         2\n",
      "     Mech. Eng       0.50      0.33      0.40         3\n",
      "           NLP       0.67      1.00      0.80         2\n",
      "    Statistics       1.00      1.00      1.00         1\n",
      "\n",
      "     micro avg       0.65      0.65      0.65        23\n",
      "     macro avg       0.64      0.66      0.62        23\n",
      "  weighted avg       0.68      0.65      0.63        23\n",
      "\n",
      "MultinomialNB\n",
      "KNegihbors\n",
      "Training Score: 1.0\n"
     ]
    },
    {
     "data": {
      "image/png": "[encoded data removed]",
      "text/plain": [
       "<Figure size 432x288 with 1 Axes>"
      ]
     },
     "metadata": {},
     "output_type": "display_data"
    },
    {
     "name": "stdout",
     "output_type": "stream",
     "text": [
      "                precision    recall  f1-score   support\n",
      "\n",
      "            AI       0.33      1.00      0.50         2\n",
      "    Algorithms       1.00      0.25      0.40         4\n",
      "       CS Math       0.00      0.00      0.00         1\n",
      "      Calculus       1.00      0.50      0.67         4\n",
      "          Data       1.00      0.50      0.67         2\n",
      "     Diff. Eq.       1.00      0.50      0.67         2\n",
      "Linear Algebra       0.50      1.00      0.67         2\n",
      "     Mech. Eng       0.67      0.67      0.67         3\n",
      "           NLP       1.00      0.50      0.67         2\n",
      "    Statistics       0.25      1.00      0.40         1\n",
      "\n",
      "     micro avg       0.57      0.57      0.57        23\n",
      "     macro avg       0.68      0.59      0.53        23\n",
      "  weighted avg       0.78      0.57      0.57        23\n",
      "\n"
     ]
    },
    {
     "name": "stderr",
     "output_type": "stream",
     "text": [
      "/root/.pyenv/versions/3.6.0/lib/python3.6/site-packages/sklearn/metrics/classification.py:1143: UndefinedMetricWarning: Precision and F-score are ill-defined and being set to 0.0 in labels with no predicted samples.\n",
      "  'precision', 'predicted', average, warn_for)\n",
      "/root/.pyenv/versions/3.6.0/lib/python3.6/site-packages/sklearn/metrics/classification.py:1143: UndefinedMetricWarning: Precision and F-score are ill-defined and being set to 0.0 in labels with no predicted samples.\n",
      "  'precision', 'predicted', average, warn_for)\n",
      "/root/.pyenv/versions/3.6.0/lib/python3.6/site-packages/sklearn/metrics/classification.py:1143: UndefinedMetricWarning: Precision and F-score are ill-defined and being set to 0.0 in labels with no predicted samples.\n",
      "  'precision', 'predicted', average, warn_for)\n"
     ]
    }
   ],
   "source": [
    "print('Logistic Regression')\n",
    "lrc = linear_model.LogisticRegression(C=1, solver='newton-cg', multi_class='multinomial', random_state=43,  max_iter=1000)\n",
    "lrc.fit(X_train,y_train[:,1])\n",
    "print(\"Training Score: {}\".format(lrc.score(X_train, y_train[:,1])))\n",
    "\n",
    "y_pred = lrc.predict(X_test)\n",
    "sns.heatmap(confusion_matrix(y_test[:,1], y_pred), annot=True, fmt='d',cbar=False)\n",
    "plt.show()\n",
    "print(classification_report(y_test[:,1],y_pred))\n",
    "\n",
    "print('Random Forest')\n",
    "rfc = ensemble.RandomForestClassifier(n_estimators=200, max_depth=4, min_samples_leaf=4, random_state=43,\n",
    "                                     class_weight='balanced')\n",
    "rfc.fit(X_train,y_train[:,1])\n",
    "print(\"Training Score: {}\".format(rfc.score(X_train, y_train[:,1])))\n",
    "y_pred = rfc.predict(X_test)\n",
    "sns.heatmap(confusion_matrix(y_test[:,1], y_pred), annot=True, fmt='d',cbar=False)\n",
    "plt.show()\n",
    "print(classification_report(y_test[:,1],y_pred))\n",
    "\n",
    "print('Gradient Boosting')\n",
    "\n",
    "gbc = ensemble.GradientBoostingClassifier(n_estimators=500, max_depth=3)\n",
    "gbc.fit(X_train,y_train[:,1])\n",
    "print(\"Training Score: {}\".format(gbc.score(X_train, y_train[:,1])))\n",
    "y_pred = gbc.predict(X_test)\n",
    "sns.heatmap(confusion_matrix(y_test[:,1], y_pred), annot=True, fmt='d',cbar=False)\n",
    "plt.show()\n",
    "print(classification_report(y_test[:,1],y_pred))\n",
    "\n",
    "print('MultinomialNB')\n",
    "\n",
    "'''bmb = naive_bayes.MultinomialNB(alpha=.3)\n",
    "bmb.fit(X_train,y_train[:,1])\n",
    "print(\"Training Score: {}\".format(bmb.score(X_train, y_train[:,1])))\n",
    "y_pred = bmb.predict(X_test)\n",
    "sns.heatmap(confusion_matrix(y_test[:,1], y_pred), annot=True, fmt='d',cbar=False)\n",
    "plt.show()\n",
    "print(classification_report(y_test[:,1],y_pred))'''\n",
    "\n",
    "print('KNegihbors')\n",
    "\n",
    "knn = neighbors.KNeighborsClassifier(n_neighbors=2, weights='distance')\n",
    "knn.fit(X_train,y_train[:,1])\n",
    "print(\"Training Score: {}\".format(knn.score(X_train, y_train[:,1])))\n",
    "y_pred = knn.predict(X_test)\n",
    "sns.heatmap(confusion_matrix(y_test[:,1], y_pred), annot=True, fmt='d',cbar=False)\n",
    "plt.show()\n",
    "print(classification_report(y_test[:,1],y_pred))"
   ]
  },
  {
   "cell_type": "code",
   "execution_count": 25,
   "metadata": {},
   "outputs": [
    {
     "data": {
      "text/html": [
       "<div>\n",
       "<style scoped>\n",
       "    .dataframe tbody tr th:only-of-type {\n",
       "        vertical-align: middle;\n",
       "    }\n",
       "\n",
       "    .dataframe tbody tr th {\n",
       "        vertical-align: top;\n",
       "    }\n",
       "\n",
       "    .dataframe thead th {\n",
       "        text-align: right;\n",
       "    }\n",
       "</style>\n",
       "<table border=\"1\" class=\"dataframe\">\n",
       "  <thead>\n",
       "    <tr style=\"text-align: right;\">\n",
       "      <th></th>\n",
       "      <th>0</th>\n",
       "      <th>1</th>\n",
       "      <th>2</th>\n",
       "      <th>3</th>\n",
       "      <th>4</th>\n",
       "      <th>5</th>\n",
       "      <th>6</th>\n",
       "      <th>7</th>\n",
       "      <th>8</th>\n",
       "      <th>9</th>\n",
       "      <th>...</th>\n",
       "      <th>CCONJ</th>\n",
       "      <th>NUM</th>\n",
       "      <th>ADJ</th>\n",
       "      <th>NOUN</th>\n",
       "      <th>SPACE</th>\n",
       "      <th>PRON</th>\n",
       "      <th>VERB</th>\n",
       "      <th>PROPN</th>\n",
       "      <th>PART</th>\n",
       "      <th>length</th>\n",
       "    </tr>\n",
       "  </thead>\n",
       "  <tbody>\n",
       "    <tr>\n",
       "      <th>0</th>\n",
       "      <td>0.0</td>\n",
       "      <td>0.017590</td>\n",
       "      <td>0.013885</td>\n",
       "      <td>0.00000</td>\n",
       "      <td>0.016803</td>\n",
       "      <td>0.000000</td>\n",
       "      <td>0.000000</td>\n",
       "      <td>0.000000</td>\n",
       "      <td>0.000000</td>\n",
       "      <td>0.016557</td>\n",
       "      <td>...</td>\n",
       "      <td>0.0310872</td>\n",
       "      <td>0.023793</td>\n",
       "      <td>0.0508857</td>\n",
       "      <td>0.154741</td>\n",
       "      <td>0</td>\n",
       "      <td>0.0811046</td>\n",
       "      <td>0.167419</td>\n",
       "      <td>0.0109413</td>\n",
       "      <td>0.0180618</td>\n",
       "      <td>5758.0</td>\n",
       "    </tr>\n",
       "    <tr>\n",
       "      <th>1</th>\n",
       "      <td>0.0</td>\n",
       "      <td>0.026686</td>\n",
       "      <td>0.084259</td>\n",
       "      <td>0.00000</td>\n",
       "      <td>0.000000</td>\n",
       "      <td>0.000000</td>\n",
       "      <td>0.000000</td>\n",
       "      <td>0.022473</td>\n",
       "      <td>0.000000</td>\n",
       "      <td>0.000000</td>\n",
       "      <td>...</td>\n",
       "      <td>0.040658</td>\n",
       "      <td>0.00791434</td>\n",
       "      <td>0.0628492</td>\n",
       "      <td>0.166201</td>\n",
       "      <td>0.000310366</td>\n",
       "      <td>0.0889199</td>\n",
       "      <td>0.177529</td>\n",
       "      <td>0.00574178</td>\n",
       "      <td>0.0234327</td>\n",
       "      <td>6444.0</td>\n",
       "    </tr>\n",
       "    <tr>\n",
       "      <th>2</th>\n",
       "      <td>0.0</td>\n",
       "      <td>0.000000</td>\n",
       "      <td>0.017214</td>\n",
       "      <td>0.00000</td>\n",
       "      <td>0.000000</td>\n",
       "      <td>0.000000</td>\n",
       "      <td>0.000000</td>\n",
       "      <td>0.000000</td>\n",
       "      <td>0.000000</td>\n",
       "      <td>0.020526</td>\n",
       "      <td>...</td>\n",
       "      <td>0.0305839</td>\n",
       "      <td>0.0261044</td>\n",
       "      <td>0.0478838</td>\n",
       "      <td>0.145351</td>\n",
       "      <td>0</td>\n",
       "      <td>0.0735249</td>\n",
       "      <td>0.175935</td>\n",
       "      <td>0.0114303</td>\n",
       "      <td>0.0160643</td>\n",
       "      <td>6474.0</td>\n",
       "    </tr>\n",
       "    <tr>\n",
       "      <th>3</th>\n",
       "      <td>0.0</td>\n",
       "      <td>0.000000</td>\n",
       "      <td>0.000000</td>\n",
       "      <td>0.00000</td>\n",
       "      <td>0.000000</td>\n",
       "      <td>0.000000</td>\n",
       "      <td>0.000000</td>\n",
       "      <td>0.018405</td>\n",
       "      <td>0.018652</td>\n",
       "      <td>0.020571</td>\n",
       "      <td>...</td>\n",
       "      <td>0.0359928</td>\n",
       "      <td>0.0190462</td>\n",
       "      <td>0.0484403</td>\n",
       "      <td>0.134673</td>\n",
       "      <td>0.00029994</td>\n",
       "      <td>0.089832</td>\n",
       "      <td>0.171416</td>\n",
       "      <td>0.00419916</td>\n",
       "      <td>0.0173965</td>\n",
       "      <td>6668.0</td>\n",
       "    </tr>\n",
       "    <tr>\n",
       "      <th>4</th>\n",
       "      <td>0.0</td>\n",
       "      <td>0.000000</td>\n",
       "      <td>0.019726</td>\n",
       "      <td>0.00457</td>\n",
       "      <td>0.000000</td>\n",
       "      <td>0.004444</td>\n",
       "      <td>0.008094</td>\n",
       "      <td>0.008418</td>\n",
       "      <td>0.000000</td>\n",
       "      <td>0.000000</td>\n",
       "      <td>...</td>\n",
       "      <td>0.0323816</td>\n",
       "      <td>0.0097493</td>\n",
       "      <td>0.0744429</td>\n",
       "      <td>0.160167</td>\n",
       "      <td>0.000139276</td>\n",
       "      <td>0.0783426</td>\n",
       "      <td>0.192827</td>\n",
       "      <td>0.00473538</td>\n",
       "      <td>0.0224234</td>\n",
       "      <td>14360.0</td>\n",
       "    </tr>\n",
       "  </tbody>\n",
       "</table>\n",
       "<p>5 rows × 249 columns</p>\n",
       "</div>"
      ],
      "text/plain": [
       "     0         1         2        3         4         5         6         7  \\\n",
       "0  0.0  0.017590  0.013885  0.00000  0.016803  0.000000  0.000000  0.000000   \n",
       "1  0.0  0.026686  0.084259  0.00000  0.000000  0.000000  0.000000  0.022473   \n",
       "2  0.0  0.000000  0.017214  0.00000  0.000000  0.000000  0.000000  0.000000   \n",
       "3  0.0  0.000000  0.000000  0.00000  0.000000  0.000000  0.000000  0.018405   \n",
       "4  0.0  0.000000  0.019726  0.00457  0.000000  0.004444  0.008094  0.008418   \n",
       "\n",
       "          8         9   ...         CCONJ         NUM        ADJ      NOUN  \\\n",
       "0  0.000000  0.016557   ...     0.0310872    0.023793  0.0508857  0.154741   \n",
       "1  0.000000  0.000000   ...      0.040658  0.00791434  0.0628492  0.166201   \n",
       "2  0.000000  0.020526   ...     0.0305839   0.0261044  0.0478838  0.145351   \n",
       "3  0.018652  0.020571   ...     0.0359928   0.0190462  0.0484403  0.134673   \n",
       "4  0.000000  0.000000   ...     0.0323816   0.0097493  0.0744429  0.160167   \n",
       "\n",
       "         SPACE       PRON      VERB       PROPN       PART   length  \n",
       "0            0  0.0811046  0.167419   0.0109413  0.0180618   5758.0  \n",
       "1  0.000310366  0.0889199  0.177529  0.00574178  0.0234327   6444.0  \n",
       "2            0  0.0735249  0.175935   0.0114303  0.0160643   6474.0  \n",
       "3   0.00029994   0.089832  0.171416  0.00419916  0.0173965   6668.0  \n",
       "4  0.000139276  0.0783426  0.192827  0.00473538  0.0224234  14360.0  \n",
       "\n",
       "[5 rows x 249 columns]"
      ]
     },
     "execution_count": 25,
     "metadata": {},
     "output_type": "execute_result"
    }
   ],
   "source": [
    "new_X = pd.concat([tfidf_vecs,pos_count],axis=1)\n",
    "new_X.head()"
   ]
  },
  {
   "cell_type": "code",
   "execution_count": 26,
   "metadata": {},
   "outputs": [],
   "source": [
    "\n",
    "\n",
    "X_train, X_test, y_train, y_test = train_test_split(pos_count, y, test_size=.25, random_state=43)"
   ]
  },
  {
   "cell_type": "code",
   "execution_count": 27,
   "metadata": {
    "scrolled": false
   },
   "outputs": [
    {
     "name": "stdout",
     "output_type": "stream",
     "text": [
      "Logistic Regression\n"
     ]
    },
    {
     "name": "stderr",
     "output_type": "stream",
     "text": [
      "/root/.pyenv/versions/jupyter3/lib/python3.6/site-packages/scipy/optimize/linesearch.py:462: LineSearchWarning: The line search algorithm did not converge\n",
      "  warn('The line search algorithm did not converge', LineSearchWarning)\n",
      "/root/.pyenv/versions/jupyter3/lib/python3.6/site-packages/scipy/optimize/linesearch.py:313: LineSearchWarning: The line search algorithm did not converge\n",
      "  warn('The line search algorithm did not converge', LineSearchWarning)\n"
     ]
    },
    {
     "name": "stdout",
     "output_type": "stream",
     "text": [
      "Training Score: 0.4927536231884058\n"
     ]
    },
    {
     "data": {
      "image/png": "[encoded data removed]",
      "text/plain": [
       "<Figure size 432x288 with 1 Axes>"
      ]
     },
     "metadata": {},
     "output_type": "display_data"
    },
    {
     "name": "stderr",
     "output_type": "stream",
     "text": [
      "/root/.pyenv/versions/3.6.0/lib/python3.6/site-packages/sklearn/metrics/classification.py:1143: UndefinedMetricWarning: Precision and F-score are ill-defined and being set to 0.0 in labels with no predicted samples.\n",
      "  'precision', 'predicted', average, warn_for)\n",
      "/root/.pyenv/versions/3.6.0/lib/python3.6/site-packages/sklearn/metrics/classification.py:1143: UndefinedMetricWarning: Precision and F-score are ill-defined and being set to 0.0 in labels with no predicted samples.\n",
      "  'precision', 'predicted', average, warn_for)\n",
      "/root/.pyenv/versions/3.6.0/lib/python3.6/site-packages/sklearn/metrics/classification.py:1143: UndefinedMetricWarning: Precision and F-score are ill-defined and being set to 0.0 in labels with no predicted samples.\n",
      "  'precision', 'predicted', average, warn_for)\n"
     ]
    },
    {
     "name": "stdout",
     "output_type": "stream",
     "text": [
      "                precision    recall  f1-score   support\n",
      "\n",
      "            AI       1.00      1.00      1.00         2\n",
      "    Algorithms       0.50      0.50      0.50         4\n",
      "       CS Math       0.50      1.00      0.67         1\n",
      "      Calculus       0.00      0.00      0.00         4\n",
      "          Data       0.00      0.00      0.00         2\n",
      "     Diff. Eq.       0.00      0.00      0.00         2\n",
      "Linear Algebra       0.40      1.00      0.57         2\n",
      "     Mech. Eng       0.00      0.00      0.00         3\n",
      "           NLP       0.00      0.00      0.00         2\n",
      "    Statistics       0.00      0.00      0.00         1\n",
      "\n",
      "     micro avg       0.30      0.30      0.30        23\n",
      "     macro avg       0.24      0.35      0.27        23\n",
      "  weighted avg       0.23      0.30      0.25        23\n",
      "\n",
      "Random Forest\n",
      "Training Score: 1.0\n"
     ]
    },
    {
     "data": {
      "image/png": "[encoded data removed]",
      "text/plain": [
       "<Figure size 432x288 with 1 Axes>"
      ]
     },
     "metadata": {},
     "output_type": "display_data"
    },
    {
     "name": "stdout",
     "output_type": "stream",
     "text": [
      "                precision    recall  f1-score   support\n",
      "\n",
      "            AI       1.00      0.50      0.67         2\n",
      "    Algorithms       1.00      1.00      1.00         4\n",
      "       CS Math       1.00      1.00      1.00         1\n",
      "      Calculus       0.67      0.50      0.57         4\n",
      "          Data       1.00      1.00      1.00         2\n",
      "     Diff. Eq.       0.50      1.00      0.67         2\n",
      "Linear Algebra       1.00      1.00      1.00         2\n",
      "     Mech. Eng       1.00      1.00      1.00         3\n",
      "           NLP       1.00      1.00      1.00         2\n",
      "    Statistics       1.00      1.00      1.00         1\n",
      "\n",
      "     micro avg       0.87      0.87      0.87        23\n",
      "     macro avg       0.92      0.90      0.89        23\n",
      "  weighted avg       0.90      0.87      0.87        23\n",
      "\n",
      "Gradient Boosting\n",
      "Training Score: 1.0\n"
     ]
    },
    {
     "data": {
      "image/png": "[encoded data removed]",
      "text/plain": [
       "<Figure size 432x288 with 1 Axes>"
      ]
     },
     "metadata": {},
     "output_type": "display_data"
    },
    {
     "name": "stderr",
     "output_type": "stream",
     "text": [
      "/root/.pyenv/versions/3.6.0/lib/python3.6/site-packages/sklearn/metrics/classification.py:1143: UndefinedMetricWarning: Precision and F-score are ill-defined and being set to 0.0 in labels with no predicted samples.\n",
      "  'precision', 'predicted', average, warn_for)\n",
      "/root/.pyenv/versions/3.6.0/lib/python3.6/site-packages/sklearn/metrics/classification.py:1143: UndefinedMetricWarning: Precision and F-score are ill-defined and being set to 0.0 in labels with no predicted samples.\n",
      "  'precision', 'predicted', average, warn_for)\n",
      "/root/.pyenv/versions/3.6.0/lib/python3.6/site-packages/sklearn/metrics/classification.py:1143: UndefinedMetricWarning: Precision and F-score are ill-defined and being set to 0.0 in labels with no predicted samples.\n",
      "  'precision', 'predicted', average, warn_for)\n"
     ]
    },
    {
     "name": "stdout",
     "output_type": "stream",
     "text": [
      "                precision    recall  f1-score   support\n",
      "\n",
      "            AI       0.00      0.00      0.00         2\n",
      "    Algorithms       0.67      0.50      0.57         4\n",
      "       CS Math       0.25      1.00      0.40         1\n",
      "      Calculus       0.67      0.50      0.57         4\n",
      "          Data       1.00      1.00      1.00         2\n",
      "     Diff. Eq.       0.00      0.00      0.00         2\n",
      "Linear Algebra       0.67      1.00      0.80         2\n",
      "     Mech. Eng       1.00      0.67      0.80         3\n",
      "           NLP       0.50      1.00      0.67         2\n",
      "    Statistics       1.00      1.00      1.00         1\n",
      "\n",
      "     micro avg       0.61      0.61      0.61        23\n",
      "     macro avg       0.57      0.67      0.58        23\n",
      "  weighted avg       0.61      0.61      0.58        23\n",
      "\n",
      "MultinomialNB\n",
      "KNegihbors\n",
      "Training Score: 1.0\n"
     ]
    },
    {
     "data": {
      "image/png": "[encoded data removed]",
      "text/plain": [
       "<Figure size 432x288 with 1 Axes>"
      ]
     },
     "metadata": {},
     "output_type": "display_data"
    },
    {
     "name": "stdout",
     "output_type": "stream",
     "text": [
      "                precision    recall  f1-score   support\n",
      "\n",
      "            AI       0.00      0.00      0.00         2\n",
      "    Algorithms       1.00      0.25      0.40         4\n",
      "       CS Math       0.00      0.00      0.00         1\n",
      "      Calculus       0.20      0.25      0.22         4\n",
      "          Data       0.67      1.00      0.80         2\n",
      "     Diff. Eq.       0.00      0.00      0.00         2\n",
      "Linear Algebra       0.00      0.00      0.00         2\n",
      "     Mech. Eng       1.00      0.33      0.50         3\n",
      "           NLP       0.00      0.00      0.00         2\n",
      "    Statistics       0.33      1.00      0.50         1\n",
      "\n",
      "     micro avg       0.26      0.26      0.26        23\n",
      "     macro avg       0.32      0.28      0.24        23\n",
      "  weighted avg       0.41      0.26      0.26        23\n",
      "\n"
     ]
    },
    {
     "name": "stderr",
     "output_type": "stream",
     "text": [
      "/root/.pyenv/versions/3.6.0/lib/python3.6/site-packages/sklearn/metrics/classification.py:1143: UndefinedMetricWarning: Precision and F-score are ill-defined and being set to 0.0 in labels with no predicted samples.\n",
      "  'precision', 'predicted', average, warn_for)\n",
      "/root/.pyenv/versions/3.6.0/lib/python3.6/site-packages/sklearn/metrics/classification.py:1143: UndefinedMetricWarning: Precision and F-score are ill-defined and being set to 0.0 in labels with no predicted samples.\n",
      "  'precision', 'predicted', average, warn_for)\n",
      "/root/.pyenv/versions/3.6.0/lib/python3.6/site-packages/sklearn/metrics/classification.py:1143: UndefinedMetricWarning: Precision and F-score are ill-defined and being set to 0.0 in labels with no predicted samples.\n",
      "  'precision', 'predicted', average, warn_for)\n"
     ]
    }
   ],
   "source": [
    "print('Logistic Regression')\n",
    "lrc = linear_model.LogisticRegression(C=1, solver='newton-cg', multi_class='multinomial', random_state=43,  max_iter=10000)\n",
    "lrc.fit(X_train,y_train[:,1])\n",
    "print(\"Training Score: {}\".format(lrc.score(X_train, y_train[:,1])))\n",
    "\n",
    "y_pred = lrc.predict(X_test)\n",
    "sns.heatmap(confusion_matrix(y_test[:,1], y_pred), annot=True, fmt='d',cbar=False)\n",
    "plt.show()\n",
    "print(classification_report(y_test[:,1],y_pred))\n",
    "\n",
    "print('Random Forest')\n",
    "rfc = ensemble.RandomForestClassifier(n_estimators=200, max_depth=4, min_samples_leaf=4, random_state=43,\n",
    "                                     class_weight='balanced')\n",
    "rfc.fit(X_train,y_train[:,1])\n",
    "print(\"Training Score: {}\".format(rfc.score(X_train, y_train[:,1])))\n",
    "y_pred = rfc.predict(X_test)\n",
    "sns.heatmap(confusion_matrix(y_test[:,1], y_pred), annot=True, fmt='d',cbar=False)\n",
    "plt.show()\n",
    "print(classification_report(y_test[:,1],y_pred))\n",
    "\n",
    "print('Gradient Boosting')\n",
    "\n",
    "gbc = ensemble.GradientBoostingClassifier(n_estimators=500, max_depth=3)\n",
    "gbc.fit(X_train,y_train[:,1])\n",
    "print(\"Training Score: {}\".format(gbc.score(X_train, y_train[:,1])))\n",
    "y_pred = gbc.predict(X_test)\n",
    "sns.heatmap(confusion_matrix(y_test[:,1], y_pred), annot=True, fmt='d',cbar=False)\n",
    "plt.show()\n",
    "print(classification_report(y_test[:,1],y_pred))\n",
    "\n",
    "print('MultinomialNB')\n",
    "\n",
    "'''bmb = naive_bayes.MultinomialNB(alpha=.3)\n",
    "bmb.fit(X_train,y_train[:,1])\n",
    "print(\"Training Score: {}\".format(bmb.score(X_train, y_train[:,1])))\n",
    "y_pred = bmb.predict(X_test)\n",
    "sns.heatmap(confusion_matrix(y_test[:,1], y_pred), annot=True, fmt='d',cbar=False)\n",
    "plt.show()\n",
    "print(classification_report(y_test[:,1],y_pred))'''\n",
    "\n",
    "print('KNegihbors')\n",
    "\n",
    "knn = neighbors.KNeighborsClassifier(n_neighbors=2, weights='distance')\n",
    "knn.fit(X_train,y_train[:,1])\n",
    "print(\"Training Score: {}\".format(knn.score(X_train, y_train[:,1])))\n",
    "y_pred = knn.predict(X_test)\n",
    "sns.heatmap(confusion_matrix(y_test[:,1], y_pred), annot=True, fmt='d',cbar=False)\n",
    "plt.show()\n",
    "print(classification_report(y_test[:,1],y_pred))"
   ]
  },
  {
   "cell_type": "code",
   "execution_count": 28,
   "metadata": {},
   "outputs": [
    {
     "data": {
      "text/plain": [
       "(92, 334)"
      ]
     },
     "execution_count": 28,
     "metadata": {},
     "output_type": "execute_result"
    }
   ],
   "source": [
    "#Instantiate tf-idf vectorizer\n",
    "vectorizer = TfidfVectorizer(max_df=0.50, # drop words that occur in more 50% of the sentences\n",
    "                             min_df=25, # only use words that appear at least 25\n",
    "                             stop_words='english', \n",
    "                             lowercase=True,\n",
    "                             use_idf=True,\n",
    "                             norm=u'l2',  \n",
    "                             smooth_idf=True)\n",
    "#Convert to dense arrays\n",
    "Xt = vectorizer.fit_transform(X)\n",
    "tfidf_vecs = pd.DataFrame(Xt.todense())\n",
    "\n",
    "tfidf_vecs.shape"
   ]
  },
  {
   "cell_type": "code",
   "execution_count": 29,
   "metadata": {
    "scrolled": true
   },
   "outputs": [],
   "source": [
    "Xt = vectorizer.fit_transform(X)\n",
    "tfidf_vecs = pd.DataFrame(Xt.todense())"
   ]
  },
  {
   "cell_type": "code",
   "execution_count": 30,
   "metadata": {
    "scrolled": true
   },
   "outputs": [
    {
     "data": {
      "text/plain": [
       "(92, 17)"
      ]
     },
     "execution_count": 30,
     "metadata": {},
     "output_type": "execute_result"
    }
   ],
   "source": [
    "pos_count.shape"
   ]
  },
  {
   "cell_type": "code",
   "execution_count": 31,
   "metadata": {},
   "outputs": [
    {
     "data": {
      "text/plain": [
       "(92, 351)"
      ]
     },
     "execution_count": 31,
     "metadata": {},
     "output_type": "execute_result"
    }
   ],
   "source": [
    "model_vecs = pd.concat( [ tfidf_vecs, pos_count ],axis=1)\n",
    "model_vecs.shape"
   ]
  },
  {
   "cell_type": "code",
   "execution_count": 32,
   "metadata": {
    "scrolled": true
   },
   "outputs": [],
   "source": [
    "X_train, X_test, y_train, y_test = train_test_split(model_vecs, y, test_size=.25, random_state=43)"
   ]
  },
  {
   "cell_type": "code",
   "execution_count": 33,
   "metadata": {
    "scrolled": false
   },
   "outputs": [
    {
     "name": "stdout",
     "output_type": "stream",
     "text": [
      "Logistic Regression\n"
     ]
    },
    {
     "name": "stderr",
     "output_type": "stream",
     "text": [
      "/root/.pyenv/versions/jupyter3/lib/python3.6/site-packages/scipy/optimize/linesearch.py:462: LineSearchWarning: The line search algorithm did not converge\n",
      "  warn('The line search algorithm did not converge', LineSearchWarning)\n",
      "/root/.pyenv/versions/jupyter3/lib/python3.6/site-packages/scipy/optimize/linesearch.py:313: LineSearchWarning: The line search algorithm did not converge\n",
      "  warn('The line search algorithm did not converge', LineSearchWarning)\n",
      "/root/.pyenv/versions/3.6.0/lib/python3.6/site-packages/sklearn/utils/optimize.py:203: ConvergenceWarning: newton-cg failed to converge. Increase the number of iterations.\n",
      "  \"number of iterations.\", ConvergenceWarning)\n"
     ]
    },
    {
     "name": "stdout",
     "output_type": "stream",
     "text": [
      "Training Score: 0.927536231884058\n"
     ]
    },
    {
     "data": {
      "image/png": "[encoded data removed]",
      "text/plain": [
       "<Figure size 432x288 with 1 Axes>"
      ]
     },
     "metadata": {},
     "output_type": "display_data"
    },
    {
     "name": "stdout",
     "output_type": "stream",
     "text": [
      "                precision    recall  f1-score   support\n",
      "\n",
      "            AI       0.50      1.00      0.67         2\n",
      "    Algorithms       1.00      0.50      0.67         4\n",
      "       CS Math       0.50      1.00      0.67         1\n",
      "      Calculus       0.67      0.50      0.57         4\n",
      "          Data       1.00      1.00      1.00         2\n",
      "     Diff. Eq.       1.00      1.00      1.00         2\n",
      "Linear Algebra       0.67      1.00      0.80         2\n",
      "     Mech. Eng       1.00      1.00      1.00         3\n",
      "           NLP       1.00      0.50      0.67         2\n",
      "    Statistics       0.00      0.00      0.00         1\n",
      "\n",
      "     micro avg       0.74      0.74      0.74        23\n",
      "     macro avg       0.73      0.75      0.70        23\n",
      "  weighted avg       0.80      0.74      0.73        23\n",
      "\n",
      "Random Forest\n",
      "Training Score: 1.0\n"
     ]
    },
    {
     "data": {
      "image/png": "[encoded data removed]",
      "text/plain": [
       "<Figure size 432x288 with 1 Axes>"
      ]
     },
     "metadata": {},
     "output_type": "display_data"
    },
    {
     "name": "stdout",
     "output_type": "stream",
     "text": [
      "                precision    recall  f1-score   support\n",
      "\n",
      "            AI       1.00      1.00      1.00         2\n",
      "    Algorithms       1.00      1.00      1.00         4\n",
      "       CS Math       1.00      1.00      1.00         1\n",
      "      Calculus       1.00      1.00      1.00         4\n",
      "          Data       1.00      1.00      1.00         2\n",
      "     Diff. Eq.       1.00      1.00      1.00         2\n",
      "Linear Algebra       1.00      1.00      1.00         2\n",
      "     Mech. Eng       1.00      1.00      1.00         3\n",
      "           NLP       1.00      1.00      1.00         2\n",
      "    Statistics       1.00      1.00      1.00         1\n",
      "\n",
      "     micro avg       1.00      1.00      1.00        23\n",
      "     macro avg       1.00      1.00      1.00        23\n",
      "  weighted avg       1.00      1.00      1.00        23\n",
      "\n",
      "Gradient Boosting\n",
      "Training Score: 1.0\n"
     ]
    },
    {
     "data": {
      "image/png": "[encoded data removed]",
      "text/plain": [
       "<Figure size 432x288 with 1 Axes>"
      ]
     },
     "metadata": {},
     "output_type": "display_data"
    },
    {
     "name": "stderr",
     "output_type": "stream",
     "text": [
      "/root/.pyenv/versions/3.6.0/lib/python3.6/site-packages/sklearn/metrics/classification.py:1143: UndefinedMetricWarning: Precision and F-score are ill-defined and being set to 0.0 in labels with no predicted samples.\n",
      "  'precision', 'predicted', average, warn_for)\n",
      "/root/.pyenv/versions/3.6.0/lib/python3.6/site-packages/sklearn/metrics/classification.py:1143: UndefinedMetricWarning: Precision and F-score are ill-defined and being set to 0.0 in labels with no predicted samples.\n",
      "  'precision', 'predicted', average, warn_for)\n",
      "/root/.pyenv/versions/3.6.0/lib/python3.6/site-packages/sklearn/metrics/classification.py:1143: UndefinedMetricWarning: Precision and F-score are ill-defined and being set to 0.0 in labels with no predicted samples.\n",
      "  'precision', 'predicted', average, warn_for)\n"
     ]
    },
    {
     "name": "stdout",
     "output_type": "stream",
     "text": [
      "                precision    recall  f1-score   support\n",
      "\n",
      "            AI       0.00      0.00      0.00         2\n",
      "    Algorithms       0.00      0.00      0.00         4\n",
      "       CS Math       0.33      1.00      0.50         1\n",
      "      Calculus       0.67      0.50      0.57         4\n",
      "          Data       1.00      0.50      0.67         2\n",
      "     Diff. Eq.       0.25      0.50      0.33         2\n",
      "Linear Algebra       0.50      1.00      0.67         2\n",
      "     Mech. Eng       1.00      0.33      0.50         3\n",
      "           NLP       0.50      1.00      0.67         2\n",
      "    Statistics       1.00      1.00      1.00         1\n",
      "\n",
      "     micro avg       0.48      0.48      0.48        23\n",
      "     macro avg       0.53      0.58      0.49        23\n",
      "  weighted avg       0.50      0.48      0.43        23\n",
      "\n",
      "MultinomialNB\n",
      "Training Score: 0.2753623188405797\n"
     ]
    },
    {
     "data": {
      "image/png": "[encoded data removed]",
      "text/plain": [
       "<Figure size 432x288 with 1 Axes>"
      ]
     },
     "metadata": {},
     "output_type": "display_data"
    },
    {
     "name": "stderr",
     "output_type": "stream",
     "text": [
      "/root/.pyenv/versions/3.6.0/lib/python3.6/site-packages/sklearn/metrics/classification.py:1143: UndefinedMetricWarning: Precision and F-score are ill-defined and being set to 0.0 in labels with no predicted samples.\n",
      "  'precision', 'predicted', average, warn_for)\n",
      "/root/.pyenv/versions/3.6.0/lib/python3.6/site-packages/sklearn/metrics/classification.py:1143: UndefinedMetricWarning: Precision and F-score are ill-defined and being set to 0.0 in labels with no predicted samples.\n",
      "  'precision', 'predicted', average, warn_for)\n",
      "/root/.pyenv/versions/3.6.0/lib/python3.6/site-packages/sklearn/metrics/classification.py:1143: UndefinedMetricWarning: Precision and F-score are ill-defined and being set to 0.0 in labels with no predicted samples.\n",
      "  'precision', 'predicted', average, warn_for)\n"
     ]
    },
    {
     "name": "stdout",
     "output_type": "stream",
     "text": [
      "                precision    recall  f1-score   support\n",
      "\n",
      "            AI       0.00      0.00      0.00         2\n",
      "    Algorithms       0.00      0.00      0.00         4\n",
      "       CS Math       0.00      0.00      0.00         1\n",
      "      Calculus       0.00      0.00      0.00         4\n",
      "          Data       0.00      0.00      0.00         2\n",
      "     Diff. Eq.       0.00      0.00      0.00         2\n",
      "Linear Algebra       0.00      0.00      0.00         2\n",
      "     Mech. Eng       0.00      0.00      0.00         3\n",
      "           NLP       0.00      0.00      0.00         2\n",
      "    Statistics       0.05      1.00      0.10         1\n",
      "\n",
      "     micro avg       0.04      0.04      0.04        23\n",
      "     macro avg       0.01      0.10      0.01        23\n",
      "  weighted avg       0.00      0.04      0.00        23\n",
      "\n",
      "KNegihbors\n",
      "Training Score: 1.0\n"
     ]
    },
    {
     "data": {
      "image/png": "[encoded data removed]",
      "text/plain": [
       "<Figure size 432x288 with 1 Axes>"
      ]
     },
     "metadata": {},
     "output_type": "display_data"
    },
    {
     "name": "stdout",
     "output_type": "stream",
     "text": [
      "                precision    recall  f1-score   support\n",
      "\n",
      "            AI       0.00      0.00      0.00         2\n",
      "    Algorithms       1.00      0.25      0.40         4\n",
      "       CS Math       0.00      0.00      0.00         1\n",
      "      Calculus       0.20      0.25      0.22         4\n",
      "          Data       0.67      1.00      0.80         2\n",
      "     Diff. Eq.       0.00      0.00      0.00         2\n",
      "Linear Algebra       0.00      0.00      0.00         2\n",
      "     Mech. Eng       1.00      0.33      0.50         3\n",
      "           NLP       0.00      0.00      0.00         2\n",
      "    Statistics       0.33      1.00      0.50         1\n",
      "\n",
      "     micro avg       0.26      0.26      0.26        23\n",
      "     macro avg       0.32      0.28      0.24        23\n",
      "  weighted avg       0.41      0.26      0.26        23\n",
      "\n"
     ]
    },
    {
     "name": "stderr",
     "output_type": "stream",
     "text": [
      "/root/.pyenv/versions/3.6.0/lib/python3.6/site-packages/sklearn/metrics/classification.py:1143: UndefinedMetricWarning: Precision and F-score are ill-defined and being set to 0.0 in labels with no predicted samples.\n",
      "  'precision', 'predicted', average, warn_for)\n",
      "/root/.pyenv/versions/3.6.0/lib/python3.6/site-packages/sklearn/metrics/classification.py:1143: UndefinedMetricWarning: Precision and F-score are ill-defined and being set to 0.0 in labels with no predicted samples.\n",
      "  'precision', 'predicted', average, warn_for)\n",
      "/root/.pyenv/versions/3.6.0/lib/python3.6/site-packages/sklearn/metrics/classification.py:1143: UndefinedMetricWarning: Precision and F-score are ill-defined and being set to 0.0 in labels with no predicted samples.\n",
      "  'precision', 'predicted', average, warn_for)\n"
     ]
    }
   ],
   "source": [
    "print('Logistic Regression')\n",
    "lrc = linear_model.LogisticRegression(C=1, solver='newton-cg', multi_class='multinomial', random_state=43)\n",
    "lrc.fit(X_train,y_train[:,1])\n",
    "print(\"Training Score: {}\".format(lrc.score(X_train, y_train[:,1])))\n",
    "\n",
    "y_pred = lrc.predict(X_test)\n",
    "sns.heatmap(confusion_matrix(y_test[:,1], y_pred), annot=True, fmt='d',cbar=False)\n",
    "plt.show()\n",
    "print(classification_report(y_test[:,1],y_pred))\n",
    "\n",
    "print('Random Forest')\n",
    "rfc = ensemble.RandomForestClassifier(n_estimators=200, max_depth=4, min_samples_leaf=4, random_state=43,\n",
    "                                     class_weight='balanced')\n",
    "rfc.fit(X_train,y_train[:,1])\n",
    "print(\"Training Score: {}\".format(rfc.score(X_train, y_train[:,1])))\n",
    "y_pred = rfc.predict(X_test)\n",
    "sns.heatmap(confusion_matrix(y_test[:,1], y_pred), annot=True, fmt='d',cbar=False)\n",
    "plt.show()\n",
    "print(classification_report(y_test[:,1],y_pred))\n",
    "\n",
    "print('Gradient Boosting')\n",
    "\n",
    "gbc = ensemble.GradientBoostingClassifier(n_estimators=500, max_depth=3)\n",
    "gbc.fit(X_train,y_train[:,1])\n",
    "print(\"Training Score: {}\".format(gbc.score(X_train, y_train[:,1])))\n",
    "y_pred = gbc.predict(X_test)\n",
    "sns.heatmap(confusion_matrix(y_test[:,1], y_pred), annot=True, fmt='d',cbar=False)\n",
    "plt.show()\n",
    "print(classification_report(y_test[:,1],y_pred))\n",
    "\n",
    "print('MultinomialNB')\n",
    "\n",
    "bmb = naive_bayes.MultinomialNB(alpha=.3)\n",
    "bmb.fit(X_train,y_train[:,1])\n",
    "print(\"Training Score: {}\".format(bmb.score(X_train, y_train[:,1])))\n",
    "y_pred = bmb.predict(X_test)\n",
    "sns.heatmap(confusion_matrix(y_test[:,1], y_pred), annot=True, fmt='d',cbar=False)\n",
    "plt.show()\n",
    "print(classification_report(y_test[:,1],y_pred))\n",
    "\n",
    "print('KNegihbors')\n",
    "\n",
    "knn = neighbors.KNeighborsClassifier(n_neighbors=2, weights='distance')\n",
    "knn.fit(X_train,y_train[:,1])\n",
    "print(\"Training Score: {}\".format(knn.score(X_train, y_train[:,1])))\n",
    "y_pred = knn.predict(X_test)\n",
    "sns.heatmap(confusion_matrix(y_test[:,1], y_pred), annot=True, fmt='d',cbar=False)\n",
    "plt.show()\n",
    "print(classification_report(y_test[:,1],y_pred))"
   ]
  },
  {
   "cell_type": "code",
   "execution_count": 34,
   "metadata": {},
   "outputs": [
    {
     "data": {
      "text/plain": [
       "[0.95, 0.86, 0.95, 0.94, 0.93]"
      ]
     },
     "execution_count": 34,
     "metadata": {},
     "output_type": "execute_result"
    }
   ],
   "source": [
    "[round(i,2) for i in cross_val_score(rfc,tfidf_vecs, y[:,1],cv=5)]"
   ]
  },
  {
   "cell_type": "code",
   "execution_count": 35,
   "metadata": {},
   "outputs": [
    {
     "data": {
      "text/plain": [
       "0.93"
      ]
     },
     "execution_count": 35,
     "metadata": {},
     "output_type": "execute_result"
    }
   ],
   "source": [
    "round(np.array([round(i,2) for i in cross_val_score(rfc,tfidf_vecs, y[:,1],cv=5)]).mean(),2)"
   ]
  },
  {
   "cell_type": "code",
   "execution_count": null,
   "metadata": {},
   "outputs": [],
   "source": []
  }
 ],
 "metadata": {
  "kernelspec": {
   "display_name": "Python 3",
   "language": "python",
   "name": "python3"
  },
  "language_info": {
   "codemirror_mode": {
    "name": "ipython",
    "version": 3
   },
   "file_extension": ".py",
   "mimetype": "text/x-python",
   "name": "python",
   "nbconvert_exporter": "python",
   "pygments_lexer": "ipython3",
   "version": "3.6.0"
  }
 },
 "nbformat": 4,
 "nbformat_minor": 2
}
